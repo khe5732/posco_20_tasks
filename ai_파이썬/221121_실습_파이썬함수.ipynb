{
 "cells": [
  {
   "cell_type": "code",
   "execution_count": 1,
   "id": "57764faf",
   "metadata": {},
   "outputs": [
    {
     "name": "stdout",
     "output_type": "stream",
     "text": [
      "6 14\n",
      "6 14\n"
     ]
    }
   ],
   "source": [
    "# 1. len 구현\n",
    "\n",
    "def my_len(x):\n",
    "    length_x = 0\n",
    "    for item in x:\n",
    "        length_x += 1\n",
    "    return length_x\n",
    "\n",
    "# 결과 \n",
    "a = [5,5,6,7,8,3]\n",
    "b = 'Life is short.'\n",
    "print(len(a), len(b))\n",
    "\n",
    "# 내 함수 결과\n",
    "print(my_len(a), my_len(b)) "
   ]
  },
  {
   "cell_type": "code",
   "execution_count": 8,
   "id": "ee22bf93",
   "metadata": {},
   "outputs": [
    {
     "name": "stdout",
     "output_type": "stream",
     "text": [
      "6\n",
      "120\n"
     ]
    }
   ],
   "source": [
    "# 2. 양의 정수 a, b를 받아 a부터 b까지 곱해서 반환하는 함수 작성\n",
    "def mult(a, b):\n",
    "    num_list = list(range(a, b+1))\n",
    "    result = 1\n",
    "    for item in num_list:\n",
    "        result = result*item\n",
    "    return result\n",
    "\n",
    "# 결과\n",
    "print(mult(1, 3))\n",
    "print(mult(2, 5))"
   ]
  },
  {
   "cell_type": "code",
   "execution_count": 19,
   "id": "a9048a35",
   "metadata": {},
   "outputs": [
    {
     "name": "stdout",
     "output_type": "stream",
     "text": [
      "7 -9\n",
      "1 -1\n"
     ]
    }
   ],
   "source": [
    "# 3. 숫자로 구성된 리스트, 리스트에서 양수값을 더한 값/음수값을 더한 값 반환하는 함수\n",
    "def sum_pos_neg(l):\n",
    "    plus = [item for item in l if item > 0]\n",
    "    minus = [item for item in l if item < 0]\n",
    "    \n",
    "    # 양수 먼저\n",
    "    possum = 0\n",
    "    for num in plus:\n",
    "        possum += num\n",
    "    \n",
    "    # 음수 먼저\n",
    "    negsum = 0\n",
    "    for num in minus:\n",
    "        negsum += num\n",
    "    return possum, negsum\n",
    "\n",
    "# 결과\n",
    "possum,negsum = sum_pos_neg([3, 4, -6, -3])\n",
    "print(possum,negsum) \n",
    "\n",
    "mylist=[0, 0, 0, 0, 0, 0, 0, 0, 0, 1, -1]\n",
    "possum2,negsum2 = sum_pos_neg(mylist)\n",
    "print(possum2,negsum2) "
   ]
  },
  {
   "cell_type": "code",
   "execution_count": 177,
   "id": "9db0aa51",
   "metadata": {},
   "outputs": [
    {
     "name": "stdout",
     "output_type": "stream",
     "text": [
      "7 -9\n",
      "1 -1\n"
     ]
    }
   ],
   "source": [
    "# 3-1.\n",
    "def sum_pos_neg(l):\n",
    "    possum = 0\n",
    "    negsum = 0\n",
    "    for num in l:\n",
    "        if num >= 0:\n",
    "            possum += num\n",
    "        else:\n",
    "            negsum += num\n",
    "    return possum, negsum\n",
    "\n",
    "\n",
    "# 결과\n",
    "possum,negsum = sum_pos_neg([3, 4, -6, -3])\n",
    "print(possum,negsum) \n",
    "\n",
    "mylist=[0, 0, 0, 0, 0, 0, 0, 0, 0, 1, -1]\n",
    "possum2,negsum2 = sum_pos_neg(mylist)\n",
    "print(possum2,negsum2) "
   ]
  },
  {
   "cell_type": "code",
   "execution_count": 32,
   "id": "3c325ff7",
   "metadata": {},
   "outputs": [
    {
     "name": "stdout",
     "output_type": "stream",
     "text": [
      "[1.5, 1.5] [7.5, 5.5] [4.140000000000001, 2.72]\n"
     ]
    }
   ],
   "source": [
    "# 4. 1개 이상의 2차원 벡터들을 전달 받아 벡터들의 합을 구하여 반환하는 함수\n",
    "def vector_sum(vector, *vectors):\n",
    "    result = [0, 0]\n",
    "    result[0] = vector[0]\n",
    "    result[1] = vector[1]\n",
    "    for vec in vectors:\n",
    "        result[0] += vec[0]\n",
    "        result[1] += vec[1]\n",
    "    return result\n",
    "\n",
    "# 결과\n",
    "v1=[0, 1]\n",
    "v2=[0.5, 0.5]\n",
    "v3=[1, 0]\n",
    "v4=[6, 4]\n",
    "v5=[3.14, 2.72]\n",
    "m1 = vector_sum(v1, v2, v3)\n",
    "m2 = vector_sum(v1, v2, v3, v4)\n",
    "m3 = vector_sum(v3, v5)\n",
    "print(m1,m2,m3)"
   ]
  },
  {
   "cell_type": "code",
   "execution_count": 169,
   "id": "1be44dab",
   "metadata": {},
   "outputs": [
    {
     "name": "stdout",
     "output_type": "stream",
     "text": [
      "[1.5, 1.5] [7.5, 5.5] [4.140000000000001, 2.72]\n"
     ]
    }
   ],
   "source": [
    "# 4. 1개 이상의 2차원 벡터들을 전달 받아 벡터들의 합을 구하여 반환하는 함수\n",
    "def vector_sum(vector, *vectors):\n",
    "    v0 = vector[0]\n",
    "    v1 = vector[1]\n",
    "    for x,y in vectors:\n",
    "        v0 += x\n",
    "        v1 += y\n",
    "    return [v0,v1]\n",
    "\n",
    "# 결과\n",
    "v1=[0, 1]\n",
    "v2=[0.5, 0.5]\n",
    "v3=[1, 0]\n",
    "v4=[6, 4]\n",
    "v5=[3.14, 2.72]\n",
    "m1 = vector_sum(v1, v2, v3)\n",
    "m2 = vector_sum(v1, v2, v3, v4)\n",
    "m3 = vector_sum(v3, v5)\n",
    "print(m1,m2,m3)"
   ]
  },
  {
   "cell_type": "code",
   "execution_count": 48,
   "id": "722bf319",
   "metadata": {},
   "outputs": [
    {
     "name": "stdout",
     "output_type": "stream",
     "text": [
      "[1, 1, 2, 2, 3, 5, 9]\n",
      "[0, 4, 6, 9]\n",
      "[0, 0]\n"
     ]
    }
   ],
   "source": [
    "# 5. 숫자로 구성된 두 리스트 합치기 -> 정렬 -> 반환\n",
    "def merge_list(l1=[0],l2=[0]):\n",
    "    result = l1+l2\n",
    "    return sorted(result)\n",
    "\n",
    "# 결과\n",
    "l = [3, 5, 9, 1, 2]\n",
    "ml1 = merge_list(l,[2,1])\n",
    "ml2 = merge_list([6,9,4])\n",
    "ml3 = merge_list()\n",
    "print(ml1) \n",
    "print(ml2) \n",
    "print(ml3)"
   ]
  },
  {
   "cell_type": "code",
   "execution_count": 185,
   "id": "786b4822",
   "metadata": {},
   "outputs": [
    {
     "name": "stdout",
     "output_type": "stream",
     "text": [
      "** 로또 번호 자동 기입을 시작합니다 ** \n",
      "\n",
      "1번째 자동 기입 ==> 3 21 38 42 43 44 \n",
      "\n",
      "2번째 자동 기입 ==> 10 15 17 29 37 45 \n",
      "\n",
      "3번째 자동 기입 ==> 4 9 12 28 44 45 \n",
      "\n",
      "4번째 자동 기입 ==> 17 23 29 33 35 37 \n",
      "\n",
      "5번째 자동 기입 ==> 7 12 25 32 33 42 \n",
      "\n"
     ]
    }
   ],
   "source": [
    "# 6. 로또 번호 자동 기입 프로그램\n",
    "import random\n",
    "\n",
    "# 1~45사이의 값을 가져오기 위한 리스트 작성\n",
    "num_list = list(range(1, 46))\n",
    "print(\"** 로또 번호 자동 기입을 시작합니다 **\",'\\n')\n",
    "\n",
    "# 1~5째까지 5개 자동 기입\n",
    "for i in range(1, 6):\n",
    "    # 1~46 사이의 값 6개 랜덤하게 가져오고, 정렬\n",
    "    auto = sorted(random.sample(num_list, 6))\n",
    "    print(str(i)+\"번째 자동 기입\", \"==>\", end=\" \")\n",
    "    for item in auto:\n",
    "        print(item, end=\" \")\n",
    "    print('\\n')"
   ]
  },
  {
   "cell_type": "code",
   "execution_count": 186,
   "id": "242d0d10",
   "metadata": {},
   "outputs": [
    {
     "name": "stdout",
     "output_type": "stream",
     "text": [
      "1\n",
      "9\n",
      "[3, 5, 2]\n"
     ]
    }
   ],
   "source": [
    "# 7. 숫자로 구성된 리스트 작성 -> 최소값, 최대값 반환하고 두 수 제거\n",
    "def get_min_max(l):\n",
    "    min_val = min(l)\n",
    "    max_val = max(l)\n",
    "    l.remove(min_val)\n",
    "    l.remove(max_val)\n",
    "    return min_val, max_val \n",
    "\n",
    "# 결과\n",
    "l = [3, 5, 9, 1, 2]\n",
    "min_val, max_val = get_min_max(l)\n",
    "print(min_val)\n",
    "print(max_val)\n",
    "print(l)"
   ]
  },
  {
   "cell_type": "code",
   "execution_count": 212,
   "id": "0783db23",
   "metadata": {},
   "outputs": [
    {
     "name": "stdout",
     "output_type": "stream",
     "text": [
      "1\n",
      "9\n",
      "[3, 5, 2]\n"
     ]
    }
   ],
   "source": [
    "# 7-1. 숫자로 구성된 리스트 작성 -> 최소값, 최대값 반환하고 두 수 제거\n",
    "def get_min_max(l):\n",
    "    # min 구하기\n",
    "    min_val = 100\n",
    "    for item in l:\n",
    "        if item < min_val:\n",
    "            min_val = item\n",
    "\n",
    "    # max 구하기\n",
    "    max_val = -100\n",
    "    for item in l:\n",
    "        if item > max_val:\n",
    "            max_val = item\n",
    "    l.remove(min_val)\n",
    "    l.remove(max_val)\n",
    "    return min_val, max_val \n",
    "\n",
    "# 결과\n",
    "l = [3, 5, 9, 1, 2]\n",
    "min_val, max_val = get_min_max(l)\n",
    "print(min_val)\n",
    "print(max_val)\n",
    "print(l)"
   ]
  },
  {
   "cell_type": "code",
   "execution_count": 251,
   "id": "d295bdec",
   "metadata": {},
   "outputs": [
    {
     "name": "stdout",
     "output_type": "stream",
     "text": [
      "{'a': 3, 'b': 3, 'c': 4, 'd': 7, 'e': 9}\n"
     ]
    }
   ],
   "source": [
    "# 8. 두 딕셔너리 전달받음 -> 각 딕셔너리 등장 값 모두 더한 새로운 딕셔너리 반환\n",
    "\n",
    "def comb_dict(d1, d2):\n",
    "    combination = {}\n",
    "    d1_keys = list(d1.keys())\n",
    "    d2_leys = list(d2.keys())\n",
    "    keys = sorted(list(set(d1_keys+d2_leys)))\n",
    "\n",
    "    for key in keys:\n",
    "        num1, num2 = 0,0\n",
    "        if key in d1_keys:\n",
    "            num1 = d1[key]\n",
    "        else:\n",
    "            pass\n",
    "        if key in d2_leys:\n",
    "            num2 = d2[key]\n",
    "        else:\n",
    "            pass\n",
    "        combination[key] = num1+num2\n",
    "        \n",
    "\n",
    "    return combination\n",
    "    \n",
    "# 결과  \n",
    "d1 = {'a': 1, 'b': 3, 'd': 7, 'e': 8}\n",
    "d2 = {'a': 2, 'c': 4, 'e': 1}\n",
    "d3 = comb_dict(d1, d2)\n",
    "print(d3)"
   ]
  },
  {
   "cell_type": "code",
   "execution_count": 213,
   "id": "031c4d2a",
   "metadata": {},
   "outputs": [
    {
     "name": "stdout",
     "output_type": "stream",
     "text": [
      "4\n",
      "300\n"
     ]
    },
    {
     "ename": "TypeError",
     "evalue": "diff() missing 1 required positional argument: 'num2'",
     "output_type": "error",
     "traceback": [
      "\u001b[0;31m---------------------------------------------------------------------------\u001b[0m",
      "\u001b[0;31mTypeError\u001b[0m                                 Traceback (most recent call last)",
      "Input \u001b[0;32mIn [213]\u001b[0m, in \u001b[0;36m<cell line: 25>\u001b[0;34m()\u001b[0m\n\u001b[1;32m     23\u001b[0m \u001b[38;5;28mprint\u001b[39m(diff(\u001b[38;5;241m1\u001b[39m,\u001b[38;5;241m2\u001b[39m,\u001b[38;5;241m3\u001b[39m,\u001b[38;5;241m4\u001b[39m,\u001b[38;5;241m5\u001b[39m))\n\u001b[1;32m     24\u001b[0m \u001b[38;5;28mprint\u001b[39m(diff(\u001b[38;5;241m-\u001b[39m\u001b[38;5;241m100\u001b[39m, \u001b[38;5;241m200\u001b[39m))\n\u001b[0;32m---> 25\u001b[0m \u001b[43mdiff\u001b[49m\u001b[43m(\u001b[49m\u001b[38;5;241;43m1\u001b[39;49m\u001b[43m)\u001b[49m\n",
      "\u001b[0;31mTypeError\u001b[0m: diff() missing 1 required positional argument: 'num2'"
     ]
    }
   ],
   "source": [
    "# 9. 숫자 2개 이상 입력 -> 최대값과 최솟값의 차 반환\n",
    "def diff(num1,num2,*num3):\n",
    "    num_list = [num1,num2]\n",
    "    for item in num3:\n",
    "        num_list.append(item)\n",
    "    # min 구하기\n",
    "    min_num = 100\n",
    "    for item in num_list:\n",
    "        if item < min_num:\n",
    "            min_num = item\n",
    "\n",
    "    # max 구하기\n",
    "    max_num = -100\n",
    "    for item in num_list:\n",
    "        if item > max_num:\n",
    "            max_num = item\n",
    "    difference = max_num-min_num\n",
    "    \n",
    "    return difference\n",
    "\n",
    "\n",
    "# 결과\n",
    "print(diff(1,2,3,4,5))\n",
    "print(diff(-100, 200))\n",
    "diff(1) # 오류 발생해야함"
   ]
  },
  {
   "cell_type": "code",
   "execution_count": 214,
   "id": "aec9f2e3",
   "metadata": {},
   "outputs": [
    {
     "name": "stdout",
     "output_type": "stream",
     "text": [
      "4\n",
      "300\n"
     ]
    },
    {
     "ename": "TypeError",
     "evalue": "diff() missing 1 required positional argument: 'num2'",
     "output_type": "error",
     "traceback": [
      "\u001b[0;31m---------------------------------------------------------------------------\u001b[0m",
      "\u001b[0;31mTypeError\u001b[0m                                 Traceback (most recent call last)",
      "Input \u001b[0;32mIn [214]\u001b[0m, in \u001b[0;36m<cell line: 18>\u001b[0;34m()\u001b[0m\n\u001b[1;32m     16\u001b[0m \u001b[38;5;28mprint\u001b[39m(diff(\u001b[38;5;241m1\u001b[39m,\u001b[38;5;241m2\u001b[39m,\u001b[38;5;241m3\u001b[39m,\u001b[38;5;241m4\u001b[39m,\u001b[38;5;241m5\u001b[39m))\n\u001b[1;32m     17\u001b[0m \u001b[38;5;28mprint\u001b[39m(diff(\u001b[38;5;241m-\u001b[39m\u001b[38;5;241m100\u001b[39m, \u001b[38;5;241m200\u001b[39m))\n\u001b[0;32m---> 18\u001b[0m \u001b[43mdiff\u001b[49m\u001b[43m(\u001b[49m\u001b[38;5;241;43m1\u001b[39;49m\u001b[43m)\u001b[49m\n",
      "\u001b[0;31mTypeError\u001b[0m: diff() missing 1 required positional argument: 'num2'"
     ]
    }
   ],
   "source": [
    "# 9. 숫자 2개 이상 입력 -> 최대값과 최솟값의 차 반환\n",
    "def diff(num1,num2,*num3):\n",
    "    num_list = [num1,num2]\n",
    "    for item in num3:\n",
    "        num_list.append(item)\n",
    "\n",
    "    min_num = min(num_list)\n",
    "    max_num = max(num_list)\n",
    "\n",
    "    difference = max_num-min_num\n",
    "    \n",
    "    return difference\n",
    "\n",
    "\n",
    "# 결과\n",
    "print(diff(1,2,3,4,5))\n",
    "print(diff(-100, 200))\n",
    "diff(1) # 오류 발생해야함"
   ]
  },
  {
   "cell_type": "code",
   "execution_count": 171,
   "id": "21cdfd59",
   "metadata": {},
   "outputs": [
    {
     "name": "stdout",
     "output_type": "stream",
     "text": [
      "1\n",
      "9\n"
     ]
    }
   ],
   "source": [
    "# 만약 min, max 함수를 쓸 수 없다면?\n",
    "\n",
    "\n",
    "l = [3, 5, 9, 1, 2]\n",
    "\n",
    "# min 구하기\n",
    "min_num = 100\n",
    "for item in l:\n",
    "    if item < min_num:\n",
    "        min_num = item\n",
    "print(min_num)\n",
    "\n",
    "# max 구하기\n",
    "max_num = -100\n",
    "for item in l:\n",
    "    if item > max_num:\n",
    "        max_num = item\n",
    "print(max_num)"
   ]
  },
  {
   "cell_type": "code",
   "execution_count": 224,
   "id": "80ae4ff0",
   "metadata": {},
   "outputs": [
    {
     "name": "stdout",
     "output_type": "stream",
     "text": [
      "Enter a sentence: hi hello how are you?\n"
     ]
    },
    {
     "data": {
      "text/plain": [
       "{'h': 3,\n",
       " 'i': 1,\n",
       " ' ': 4,\n",
       " 'e': 2,\n",
       " 'l': 2,\n",
       " 'o': 3,\n",
       " 'w': 1,\n",
       " 'a': 1,\n",
       " 'r': 1,\n",
       " 'y': 1,\n",
       " 'u': 1,\n",
       " '?': 1}"
      ]
     },
     "execution_count": 224,
     "metadata": {},
     "output_type": "execute_result"
    }
   ],
   "source": [
    "sentence = input(\"Enter a sentence: \")\n",
    "\n",
    "key_list = []\n",
    "for a in sentence:\n",
    "    key_list.append(a)\n",
    "\n",
    "result = {}\n",
    "for a in key_list:\n",
    "    result[a] = key_list.count(a)\n",
    "    \n",
    "result    "
   ]
  },
  {
   "cell_type": "code",
   "execution_count": 227,
   "id": "2f356afe",
   "metadata": {},
   "outputs": [
    {
     "name": "stdout",
     "output_type": "stream",
     "text": [
      "Enter a sentence: 파이썬 파이 파 이 썬\n"
     ]
    },
    {
     "data": {
      "text/plain": [
       "{'파': 3, '이': 3, '썬': 2, ' ': 4}"
      ]
     },
     "execution_count": 227,
     "metadata": {},
     "output_type": "execute_result"
    }
   ],
   "source": [
    "sentence = input(\"Enter a sentence: \")\n",
    "\n",
    "key_list = []\n",
    "for a in sentence:\n",
    "    key_list.append(a)\n",
    "\n",
    "result = {}\n",
    "for a in key_list:\n",
    "    result[a] = key_list.count(a)\n",
    "    \n",
    "result    "
   ]
  },
  {
   "cell_type": "code",
   "execution_count": 256,
   "id": "cfaa538b",
   "metadata": {},
   "outputs": [
    {
     "name": "stdout",
     "output_type": "stream",
     "text": [
      "Enter a sentence: 파이썬 파이 파 이 썬\n"
     ]
    },
    {
     "data": {
      "text/plain": [
       "{'파': 3, '이': 3, '썬': 2, ' ': 4}"
      ]
     },
     "execution_count": 256,
     "metadata": {},
     "output_type": "execute_result"
    }
   ],
   "source": [
    "sentence = input(\"Enter a sentence: \")\n",
    "\n",
    "result = {}\n",
    "for a in sentence:\n",
    "    if a in result:\n",
    "        result[a] += 1\n",
    "    else:\n",
    "        result[a] = 1\n",
    "    \n",
    "result    "
   ]
  },
  {
   "cell_type": "code",
   "execution_count": 232,
   "id": "2e848f54",
   "metadata": {},
   "outputs": [
    {
     "name": "stdout",
     "output_type": "stream",
     "text": [
      "10 2 1 "
     ]
    }
   ],
   "source": [
    "dic = {'kim':10, 'park':2, 'youn':1}\n",
    "\n",
    "for item in dic:\n",
    "    print(dic[item], end=\" \")"
   ]
  }
 ],
 "metadata": {
  "kernelspec": {
   "display_name": "Python 3 (ipykernel)",
   "language": "python",
   "name": "python3"
  },
  "language_info": {
   "codemirror_mode": {
    "name": "ipython",
    "version": 3
   },
   "file_extension": ".py",
   "mimetype": "text/x-python",
   "name": "python",
   "nbconvert_exporter": "python",
   "pygments_lexer": "ipython3",
   "version": "3.9.13"
  }
 },
 "nbformat": 4,
 "nbformat_minor": 5
}
